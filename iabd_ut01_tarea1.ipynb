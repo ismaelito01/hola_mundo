{
  "nbformat": 4,
  "nbformat_minor": 0,
  "metadata": {
    "colab": {
      "provenance": [],
      "authorship_tag": "ABX9TyMKhS3V15BLMOQi9hTNe9eq",
      "include_colab_link": true
    },
    "kernelspec": {
      "name": "python3",
      "display_name": "Python 3"
    },
    "language_info": {
      "name": "python"
    }
  },
  "cells": [
    {
      "cell_type": "markdown",
      "metadata": {
        "id": "view-in-github",
        "colab_type": "text"
      },
      "source": [
        "<a href=\"https://colab.research.google.com/github/ismaelito01/hola_mundo/blob/main/iabd_ut01_tarea1.ipynb\" target=\"_parent\"><img src=\"https://colab.research.google.com/assets/colab-badge.svg\" alt=\"Open In Colab\"/></a>"
      ]
    },
    {
      "cell_type": "markdown",
      "source": [
        "Borra la celda actual, añade una nueva de texto y escribe en su interior tu nombre completo en Heading 1.\n"
      ],
      "metadata": {
        "id": "hc6bKHUWiCNA"
      }
    },
    {
      "cell_type": "markdown",
      "source": [
        "#Ismael Rosado Camacho"
      ],
      "metadata": {
        "id": "g6LFLutocmE6"
      }
    },
    {
      "cell_type": "markdown",
      "source": [
        "En una nueva celda de código, crea la lista de nombre tenistas con los siguientes elementos: Novak Djokovic, Rafael Nadal, Roger Federer, Pete Sampras, Roy Emerson. Imprime por pantalla la lista.\n"
      ],
      "metadata": {
        "id": "zmty9Ei_iEBw"
      }
    },
    {
      "cell_type": "code",
      "source": [
        "tenistas = [\"Novak Djokovic\", \"Rafael Nadal\", \"Roger Federer\", \"Pete Sampras\", \"Roy Emerson\"]\n",
        "print (tenistas)"
      ],
      "metadata": {
        "colab": {
          "base_uri": "https://localhost:8080/"
        },
        "id": "AU-qcD01dRTy",
        "outputId": "c108d3a2-62e6-4dc2-f2b9-712624608066"
      },
      "execution_count": 2,
      "outputs": [
        {
          "output_type": "stream",
          "name": "stdout",
          "text": [
            "['Novak Djokovic', 'Rafael Nadal', 'Roger Federer', 'Pete Sampras', 'Roy Emerson']\n"
          ]
        }
      ]
    },
    {
      "cell_type": "markdown",
      "source": [
        "En una nueva celda de código, crea la lista de nombre grand_slams con los siguientes elementos: 24, 22, 20, 14, 12. Imprime por pantalla la lista."
      ],
      "metadata": {
        "id": "qgX0VMHliI1w"
      }
    },
    {
      "cell_type": "code",
      "source": [
        "grand_slams = [24, 22, 20, 14, 12]\n",
        "print(grand_slams)"
      ],
      "metadata": {
        "colab": {
          "base_uri": "https://localhost:8080/"
        },
        "id": "S9Bwh79jdq1S",
        "outputId": "4f7b12f7-f4d7-4e86-bd04-11139c11093e"
      },
      "execution_count": 3,
      "outputs": [
        {
          "output_type": "stream",
          "name": "stdout",
          "text": [
            "[24, 22, 20, 14, 12]\n"
          ]
        }
      ]
    },
    {
      "cell_type": "markdown",
      "source": [
        "En una nueva celda de código, crea un diccionario de nombre dict donde la clave de cada elemento sea el nombre de un tenista y su valor el número de Grand Slams ganados. Imprime por pantalla el diccionario."
      ],
      "metadata": {
        "id": "Rm3aqG17iMwU"
      }
    },
    {
      "cell_type": "code",
      "source": [
        "tenistas = [\"Novak Djokovic\", \"Rafael Nadal\", \"Roger Federer\", \"Pete Sampras\", \"Roy Emerson\"]\n",
        "grand_slams = [24, 22, 20, 14, 12]\n",
        "\n",
        "diccionario_tenista = dict(zip(tenistas, grand_slams))\n",
        "print(diccionario_tenista)"
      ],
      "metadata": {
        "colab": {
          "base_uri": "https://localhost:8080/"
        },
        "id": "M_sbndNZeA8q",
        "outputId": "57b78ff4-4e4e-4966-f49a-569a0c4c8617"
      },
      "execution_count": 11,
      "outputs": [
        {
          "output_type": "stream",
          "name": "stdout",
          "text": [
            "{'Novak Djokovic': 24, 'Rafael Nadal': 22, 'Roger Federer': 20, 'Pete Sampras': 14, 'Roy Emerson': 12}\n"
          ]
        }
      ]
    },
    {
      "cell_type": "markdown",
      "source": [
        "En una nueva celda de código, escribe las sentencias Python necesarias para mostrar los datos del diccionario dict en la forma Nombre del jugador: X Grand Slams ganados. El resultado debería ser como sigue:"
      ],
      "metadata": {
        "id": "KPNXIBFdiUi2"
      }
    },
    {
      "cell_type": "code",
      "source": [
        "diccionario_tenista = {\"Novak Djokovic\":24, \"Rafael Nadal\":22, \"Roger Federer\":20, \"Pete Sampras\":14, \"Roy Emerson\":12}\n",
        "\n",
        "for nombre , palmares in diccionario_tenista.items():\n",
        "  print(f'{nombre} : {palmares} Grand Slams ganados.')\n"
      ],
      "metadata": {
        "colab": {
          "base_uri": "https://localhost:8080/"
        },
        "id": "sO3vi8HEewKW",
        "outputId": "3a680513-5738-44b1-f082-781282e2a918"
      },
      "execution_count": 10,
      "outputs": [
        {
          "output_type": "stream",
          "name": "stdout",
          "text": [
            "Novak Djokovic : 24 Grand Slams ganados.\n",
            "Rafael Nadal : 22 Grand Slams ganados.\n",
            "Roger Federer : 20 Grand Slams ganados.\n",
            "Pete Sampras : 14 Grand Slams ganados.\n",
            "Roy Emerson : 12 Grand Slams ganados.\n"
          ]
        }
      ]
    }
  ]
}